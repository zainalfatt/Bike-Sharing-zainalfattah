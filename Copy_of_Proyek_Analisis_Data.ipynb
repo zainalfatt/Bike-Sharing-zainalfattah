{
  "cells": [
    {
      "cell_type": "markdown",
      "metadata": {
        "id": "H9wADwK78DCz"
      },
      "source": [
        "# Proyek Analisis Data: Bike Sharing Dataset\n",
        "- **Nama:** Zainal Fattah\n",
        "- **Email:** project.zf01@gmail.com\n",
        "- **ID Dicoding:** mosaicnim"
      ]
    },
    {
      "cell_type": "markdown",
      "metadata": {
        "id": "eE0raob58DC0"
      },
      "source": [
        "## Menentukan Pertanyaan Bisnis"
      ]
    },
    {
      "cell_type": "markdown",
      "metadata": {
        "id": "GmQeQ5YF8DC0"
      },
      "source": [
        "1. Seberapa signifikan perbedaan jumlah penyewaan sepeda pada tiap musim untuk pengguna kasual dibandingkan pengguna terdaftar?\n",
        "2. Bagaimana produktivitas Bike Sharing berdasarkan waktu pada musim salju?\n",
        "3. Bagaimana kondisi cuaca berperan dalam memengaruhi jumlah penyewaan sepeda?"
      ]
    },
    {
      "cell_type": "markdown",
      "metadata": {
        "id": "H-z4QGlO8DC1"
      },
      "source": [
        "## Import Semua Packages/Library yang Digunakan"
      ]
    },
    {
      "cell_type": "code",
      "execution_count": null,
      "metadata": {
        "id": "FVYwaObI8DC1"
      },
      "outputs": [],
      "source": [
        "import numpy as np\n",
        "import pandas as pd\n",
        "import matplotlib.pyplot as plt\n",
        "import seaborn as sns\n",
        "import matplotlib.patches as mpatches"
      ]
    },
    {
      "cell_type": "markdown",
      "metadata": {
        "id": "h_Sh51Xy8DC1"
      },
      "source": [
        "## Data Wrangling"
      ]
    },
    {
      "cell_type": "markdown",
      "metadata": {
        "id": "sXU2GBYu8DC1"
      },
      "source": [
        "### Gathering Data"
      ]
    },
    {
      "cell_type": "code",
      "execution_count": null,
      "metadata": {
        "colab": {
          "base_uri": "https://localhost:8080/",
          "height": 313
        },
        "id": "zjCBk1BI8DC1",
        "outputId": "c9a7990d-5f64-47dd-b9dd-4a7f6c4b2ff0"
      },
      "outputs": [],
      "source": [
        "day_df = pd.read_csv('./data/day.csv')\n",
        "day_df.head()"
      ]
    },
    {
      "cell_type": "code",
      "execution_count": null,
      "metadata": {
        "colab": {
          "base_uri": "https://localhost:8080/",
          "height": 313
        },
        "id": "DQSwn65NTWms",
        "outputId": "e805e71a-6078-4760-ecc0-0311b2803a61"
      },
      "outputs": [],
      "source": [
        "hour_df = pd.read_csv('./data/hour.csv')\n",
        "hour_df.head()"
      ]
    },
    {
      "cell_type": "markdown",
      "metadata": {
        "id": "5z83tXTfV8f9"
      },
      "source": [
        "**Insight:**\n",
        "\n",
        "This dataset contains information about bike rentals, with the following key features:\n",
        " * Date and Time: date, year, month, hour, and day of the week\n",
        " * Season and Holidays: season, holiday status, and working day status\n",
        " * Weather: weather situation, temperature, feeling temperature, humidity, and wind speed (all normalized)\n",
        " * User Types: count of casual users, registered users, and total rental bikes"
      ]
    },
    {
      "cell_type": "markdown",
      "metadata": {
        "id": "FHSiqaZp8DC1"
      },
      "source": [
        "### Assessing Data"
      ]
    },
    {
      "cell_type": "markdown",
      "metadata": {
        "id": "GfbI_c9zUOI5"
      },
      "source": [
        "#### Day DataFrame"
      ]
    },
    {
      "cell_type": "code",
      "execution_count": null,
      "metadata": {
        "colab": {
          "base_uri": "https://localhost:8080/"
        },
        "id": "qN3Rn-ouUrmx",
        "outputId": "f25267e9-0b2c-4426-f836-03a4902af4a6"
      },
      "outputs": [],
      "source": [
        "day_df.shape"
      ]
    },
    {
      "cell_type": "code",
      "execution_count": null,
      "metadata": {
        "colab": {
          "base_uri": "https://localhost:8080/"
        },
        "id": "ax-3tEjc9Cj1",
        "outputId": "9d8feb92-a378-48ce-bfac-a05cc8b991fe"
      },
      "outputs": [],
      "source": [
        "day_df.info()"
      ]
    },
    {
      "cell_type": "code",
      "execution_count": null,
      "metadata": {
        "colab": {
          "base_uri": "https://localhost:8080/",
          "height": 586
        },
        "id": "kv662bzkU7LT",
        "outputId": "554076dc-f2b3-4b7a-f5b3-2ddb61b596bf"
      },
      "outputs": [],
      "source": [
        "day_df.isnull().sum()"
      ]
    },
    {
      "cell_type": "code",
      "execution_count": null,
      "metadata": {
        "colab": {
          "base_uri": "https://localhost:8080/",
          "height": 338
        },
        "id": "d8b095XbVAs7",
        "outputId": "59d230e5-0aea-428d-b8aa-2b4dfd4a04a8"
      },
      "outputs": [],
      "source": [
        "duplicated = day_df.duplicated().sum()\n",
        "print(f'Jumlah data duplikat: {duplicated}')\n",
        "day_df.describe()"
      ]
    },
    {
      "cell_type": "markdown",
      "metadata": {
        "id": "7dtxhAPrkhPL"
      },
      "source": [
        "**Insight:**\n",
        " * 731 rows & 16 Column\n",
        " * There is a data type error in the dteday column (object type)\n",
        " * There are no missing values in the data\n",
        " * There are no duplicate data points\n",
        " * There are no inaccurate values"
      ]
    },
    {
      "cell_type": "markdown",
      "metadata": {
        "id": "H5iVCQs8h01l"
      },
      "source": [
        "#### Hour DataFrame"
      ]
    },
    {
      "cell_type": "code",
      "execution_count": null,
      "metadata": {
        "colab": {
          "base_uri": "https://localhost:8080/"
        },
        "id": "qo96aSMThvP_",
        "outputId": "e28c783c-524d-44ae-b52f-cb5c5c178713"
      },
      "outputs": [],
      "source": [
        "hour_df.shape"
      ]
    },
    {
      "cell_type": "code",
      "execution_count": null,
      "metadata": {
        "colab": {
          "base_uri": "https://localhost:8080/"
        },
        "id": "Vz-lvZrOiVpK",
        "outputId": "6cdd63bc-9bcf-4231-9476-62973603b422"
      },
      "outputs": [],
      "source": [
        "hour_df.info()"
      ]
    },
    {
      "cell_type": "code",
      "execution_count": null,
      "metadata": {
        "colab": {
          "base_uri": "https://localhost:8080/",
          "height": 617
        },
        "id": "UFchc7BXjgsp",
        "outputId": "aadba27c-d251-4e58-b468-262d376a74ab"
      },
      "outputs": [],
      "source": [
        "hour_df.isnull().sum()"
      ]
    },
    {
      "cell_type": "code",
      "execution_count": null,
      "metadata": {
        "colab": {
          "base_uri": "https://localhost:8080/",
          "height": 338
        },
        "id": "GGD6tkg5jkxF",
        "outputId": "18399876-3de6-4e52-dd86-4493e7bbf3f9"
      },
      "outputs": [],
      "source": [
        "duplicated = hour_df.duplicated().sum()\n",
        "print(f'Jumlah data duplikat: {duplicated}')\n",
        "hour_df.describe()"
      ]
    },
    {
      "cell_type": "markdown",
      "metadata": {
        "id": "5Guk9SdL0avh"
      },
      "source": [
        "**Insight:**\n",
        " * 17379 rows & 17 Column\n",
        " * There is a data type error in the dteday column (object type)\n",
        " * There are no missing values in the data\n",
        " * There are no duplicate data points\n",
        " * There are no inaccurate values"
      ]
    },
    {
      "cell_type": "markdown",
      "metadata": {
        "id": "EhN5R4hr8DC1"
      },
      "source": [
        "### Cleaning Data"
      ]
    },
    {
      "cell_type": "markdown",
      "metadata": {
        "id": "aYHwOUzkdSCV"
      },
      "source": [
        "Menurut penilaian saya\n",
        "\n",
        "ketergantungan antar kolom:\n",
        "- working --> weekday\n",
        "- holiday --> weekday\n",
        "\n",
        "Maksud/Makna dari value 0 & 1:\n",
        "- Holiday: Jika 0 == Tidak Libur/Masuk Kerja, maka 1 == Libur.\n",
        "- Workingday: Jika 0 == Tidak masuk kerja/Libur, maka 1 == Masuk kerja.\n",
        "\n",
        "karena ada dua kolom yang memiliki ketergantungan yang sama & mempunyai arti/maksud yang sama, maka hapus salah satu.\n",
        "\n"
      ]
    },
    {
      "cell_type": "code",
      "execution_count": 13,
      "metadata": {
        "id": "qF02mls6dRFO"
      },
      "outputs": [],
      "source": [
        "# Menghapus kolom holiday\n",
        "hour_df.drop('holiday', axis=1, inplace=True)\n",
        "day_df.drop('holiday', axis=1, inplace=True)"
      ]
    },
    {
      "cell_type": "code",
      "execution_count": 14,
      "metadata": {
        "id": "iSBJuKM1-rf7"
      },
      "outputs": [],
      "source": [
        "day_df.rename(columns={'workingday': 'daystatus'}, inplace=True)\n",
        "hour_df.rename(columns={'workingday': 'daystatus'}, inplace=True)"
      ]
    },
    {
      "cell_type": "markdown",
      "metadata": {
        "id": "-lyAYMWw1R3W"
      },
      "source": [
        "Mengubah tipe data kolom dteday dari object ke datetime pada dataframe day & hour"
      ]
    },
    {
      "cell_type": "code",
      "execution_count": 15,
      "metadata": {
        "id": "dBljUbFa1QMB"
      },
      "outputs": [],
      "source": [
        "dataframe = [day_df, hour_df]\n",
        "\n",
        "for df in dataframe:\n",
        "  df['dteday'] = pd.to_datetime(df['dteday'])"
      ]
    },
    {
      "cell_type": "code",
      "execution_count": 16,
      "metadata": {
        "id": "U_phWi2t8U2U"
      },
      "outputs": [],
      "source": [
        "yr_str = {\n",
        "    0: '2011',\n",
        "    1: '2012'\n",
        "}\n",
        "\n",
        "day_df['yr'] = day_df['yr'].map(yr_str)\n",
        "hour_df['yr'] = hour_df['yr'].map(yr_str)"
      ]
    },
    {
      "cell_type": "markdown",
      "metadata": {
        "id": "qQSoR0b8za9g"
      },
      "source": [
        "Mengubah season dari numerik ke actual values pada dataframe day & hour:\n",
        "- 1: Spring\n",
        "- 2: Summer\n",
        "- 3: Fall\n",
        "- 4: Winter"
      ]
    },
    {
      "cell_type": "code",
      "execution_count": 17,
      "metadata": {
        "id": "jVnYpprE9Evz"
      },
      "outputs": [],
      "source": [
        "season_str = {\n",
        "    1: 'Spring',\n",
        "    2: 'Summer',\n",
        "    3: 'Fall',\n",
        "    4: 'Winter'\n",
        "}\n",
        "\n",
        "day_df['season'] = day_df['season'].map(season_str)\n",
        "hour_df['season'] = hour_df['season'].map(season_str)"
      ]
    },
    {
      "cell_type": "code",
      "execution_count": null,
      "metadata": {
        "colab": {
          "base_uri": "https://localhost:8080/"
        },
        "id": "tdC_raahYA6x",
        "outputId": "e57bbf6b-35fe-4ed1-9da6-2ae20a2a5ef0"
      },
      "outputs": [],
      "source": [
        "day_df['season'].unique()"
      ]
    },
    {
      "cell_type": "markdown",
      "metadata": {
        "id": "m8twNxv1Woms"
      },
      "source": [
        "Mengubah value mnth dari numerik ke string:\n",
        "- 1: \"Januari\"\n",
        "- 2: \"Februari\"\n",
        "- 3: \"Maret\"\n",
        "- 4: \"April\"\n",
        "- 5: \"Mei\"\n",
        "- 6: \"Juni\"\n",
        "- 7: \"Juli\"\n",
        "- 8: \"Agustus\"\n",
        "- 9: \"September\"\n",
        "- 10: \"Oktober\"\n",
        "- 11: \"November\"\n",
        "- 12: \"Desember\""
      ]
    },
    {
      "cell_type": "code",
      "execution_count": 19,
      "metadata": {
        "id": "kuosttXTXrNa"
      },
      "outputs": [],
      "source": [
        "mnth_str = {\n",
        "    1: \"Januari\",\n",
        "    2: \"Februari\",\n",
        "    3: \"Maret\",\n",
        "    4: \"April\",\n",
        "    5: \"Mei\",\n",
        "    6: \"Juni\",\n",
        "    7: \"Juli\",\n",
        "    8: \"Agustus\",\n",
        "    9: \"September\",\n",
        "    10: \"Oktober\",\n",
        "    11: \"November\",\n",
        "    12: \"Desember\"\n",
        "}\n",
        "\n",
        "day_df['mnth'] = day_df['mnth'].map(mnth_str)\n",
        "hour_df['mnth'] = hour_df['mnth'].map(mnth_str)"
      ]
    },
    {
      "cell_type": "code",
      "execution_count": null,
      "metadata": {
        "colab": {
          "base_uri": "https://localhost:8080/"
        },
        "id": "kSJL76q9X2_N",
        "outputId": "476638aa-b55d-4d82-acee-9872f4bbf9d9"
      },
      "outputs": [],
      "source": [
        "day_df['mnth'].unique()"
      ]
    },
    {
      "cell_type": "markdown",
      "metadata": {
        "id": "gyHa_XBebA3k"
      },
      "source": [
        "Mengubah value weekday dari numerik ke string\n",
        "- 0: \"Minggu\"\n",
        "- 1: \"Senin\"\n",
        "- 2: \"Selasa\"\n",
        "- 3: \"Rabu\"\n",
        "- 4: \"Kamis\"\n",
        "- 5: \"Jumat\"\n",
        "- 6: \"Sabtu\""
      ]
    },
    {
      "cell_type": "code",
      "execution_count": 21,
      "metadata": {
        "id": "G7CHXPWvYFnR"
      },
      "outputs": [],
      "source": [
        "weekday_str = {\n",
        "    0: \"Minggu\",\n",
        "    1: \"Senin\",\n",
        "    2: \"Selasa\",\n",
        "    3: \"Rabu\",\n",
        "    4: \"Kamis\",\n",
        "    5: \"Jumat\",\n",
        "    6: \"Sabtu\"\n",
        "}\n",
        "\n",
        "day_df['weekday'] = day_df['weekday'].map(weekday_str)\n",
        "hour_df['weekday'] = hour_df['weekday'].map(weekday_str)"
      ]
    },
    {
      "cell_type": "code",
      "execution_count": null,
      "metadata": {
        "colab": {
          "base_uri": "https://localhost:8080/"
        },
        "id": "i-CU71UnbwEJ",
        "outputId": "fc26ace6-7f5d-4c08-d140-dde7e50f8c59"
      },
      "outputs": [],
      "source": [
        "day_df['weekday'].unique()"
      ]
    },
    {
      "cell_type": "markdown",
      "metadata": {
        "id": "WiZk_s1d4xQ0"
      },
      "source": [
        "Mengubah value weathersit\tdari numerik ke string\n",
        "- 1:\"clear\"\n",
        "- 2:\"mist\"\n",
        "- 3:\"light snow\"\n",
        "- 4:\"heavy rain\""
      ]
    },
    {
      "cell_type": "code",
      "execution_count": 23,
      "metadata": {
        "id": "usuEWIFWop97"
      },
      "outputs": [],
      "source": [
        "weathersit_str = {\n",
        "    1: \"clear\",\n",
        "    2: \"mist\",\n",
        "    3: \"light snow\",\n",
        "    4: \"heavy rain\"\n",
        "}\n",
        "\n",
        "day_df['weathersit'] = day_df['weathersit'].map(weathersit_str)\n",
        "hour_df['weathersit'] = hour_df['weathersit'].map(weathersit_str)"
      ]
    },
    {
      "cell_type": "code",
      "execution_count": null,
      "metadata": {
        "colab": {
          "base_uri": "https://localhost:8080/"
        },
        "id": "Nnv8mYrH5rA1",
        "outputId": "dc0cf384-438e-4211-8c0b-7bdc24f221d7"
      },
      "outputs": [],
      "source": [
        "hour_df['weathersit'].unique()"
      ]
    },
    {
      "cell_type": "code",
      "execution_count": 25,
      "metadata": {
        "id": "UhlAQYRIllVi"
      },
      "outputs": [],
      "source": [
        "workingday_str = {\n",
        "    0: \"Holiday\",\n",
        "    1: \"Workingday\"\n",
        "}\n",
        "\n",
        "day_df['daystatus'] = day_df['daystatus'].map(workingday_str)\n",
        "hour_df['daystatus'] = hour_df['daystatus'].map(workingday_str)"
      ]
    },
    {
      "cell_type": "code",
      "execution_count": null,
      "metadata": {
        "colab": {
          "base_uri": "https://localhost:8080/"
        },
        "id": "j-E02uzOl0tG",
        "outputId": "da2858fe-1d99-4d60-88fd-1bd9ef383e16"
      },
      "outputs": [],
      "source": [
        "day_df['daystatus'].unique()"
      ]
    },
    {
      "cell_type": "markdown",
      "metadata": {
        "id": "Q_5ejIqckiSP"
      },
      "source": [
        "**Insight:**\n",
        "- Menghapus kolom holiday yang tidak diperlukan, karena sudah diwakilkan oleh kolom workingday\n",
        "- Mengubah tipe data\n",
        "- Mengubah value dari numerik ke string"
      ]
    },
    {
      "cell_type": "markdown",
      "metadata": {
        "id": "gp-Y6wU38DC1"
      },
      "source": [
        "## Exploratory Data Analysis (EDA)"
      ]
    },
    {
      "cell_type": "markdown",
      "metadata": {
        "id": "MW7WF2kr8DC1"
      },
      "source": [
        "### Explore ..."
      ]
    },
    {
      "cell_type": "code",
      "execution_count": null,
      "metadata": {
        "colab": {
          "base_uri": "https://localhost:8080/",
          "height": 623
        },
        "id": "e9CQCZjk8DC2",
        "outputId": "b28a1a6c-0f17-4304-e3f8-faf40de412b6"
      },
      "outputs": [],
      "source": [
        "day_df.describe(include='all')"
      ]
    },
    {
      "cell_type": "code",
      "execution_count": null,
      "metadata": {
        "colab": {
          "base_uri": "https://localhost:8080/",
          "height": 518
        },
        "id": "CsiP0logfeSy",
        "outputId": "b72e1df7-1290-42ef-b1be-6cba198db62a"
      },
      "outputs": [],
      "source": [
        "hour_df.describe(include='all')"
      ]
    },
    {
      "cell_type": "code",
      "execution_count": null,
      "metadata": {
        "colab": {
          "base_uri": "https://localhost:8080/",
          "height": 332
        },
        "id": "qmrM584G6UXy",
        "outputId": "dfef46c1-9371-4e0a-f91c-04bafa6be30b"
      },
      "outputs": [],
      "source": [
        "# Jumlah pengguna harian\n",
        "day_df.groupby(by=\"weekday\").agg({\n",
        "    \"dteday\": \"nunique\",\n",
        "    \"casual\": \"sum\",\n",
        "    \"registered\": \"sum\",\n",
        "    \"cnt\": [\"min\",\"max\", \"mean\", \"sum\"]\n",
        "})"
      ]
    },
    {
      "cell_type": "markdown",
      "metadata": {
        "id": "sE3TByKjtdtv"
      },
      "source": [
        "\n",
        "Jumlah data 'casual' dan 'registered' terakumulasi setiap hari bervariasi. Jumlah total data 'casual' tertinggi tercatat pada hari Sabtu (153.852) dan terendah pada hari Rabu (57.319). Untuk data 'registered', jumlah tertinggi tercapai pada hari Kamis (423.935), sementara jumlah terendah pada hari Minggu (303.506). Total jumlah 'cnt' juga menunjukkan perbedaan antar hari, dengan nilai tertinggi pada hari Jumat (487.790) dan terendah pada hari Minggu (444.027)."
      ]
    },
    {
      "cell_type": "code",
      "execution_count": null,
      "metadata": {
        "colab": {
          "base_uri": "https://localhost:8080/",
          "height": 865
        },
        "id": "tkzb83O2bCOI",
        "outputId": "7ef91eb6-03b1-4534-a3a0-c57f28948aba"
      },
      "outputs": [],
      "source": [
        "# Jumlah pengguna per-bulan rentang 2 tahun\n",
        "day_df.groupby(by=[\"yr\",\"mnth\"]).agg({\n",
        "    \"dteday\": \"nunique\",\n",
        "    \"casual\": \"sum\",\n",
        "    \"registered\": \"sum\",\n",
        "    \"cnt\": [\"min\",\"max\", \"mean\", \"sum\"]\n",
        "})"
      ]
    },
    {
      "cell_type": "markdown",
      "metadata": {
        "id": "-sgLOltS5XZk"
      },
      "source": [
        "Pada tahun 2011, pengguna Bike Sharing terbanyak ada pada bulan Juni dengan total 143.512 pengguna. Pada tahun 2012, pengguna Bike Sharing terbanyak ada pada bulan September dengan total 218.573 pengguna."
      ]
    },
    {
      "cell_type": "code",
      "execution_count": null,
      "metadata": {
        "colab": {
          "base_uri": "https://localhost:8080/",
          "height": 520
        },
        "id": "50MbdmnKgJC8",
        "outputId": "8f4e8da3-4aa6-4f99-c0ac-0608f2f24ac7"
      },
      "outputs": [],
      "source": [
        "# Jumlah pengguna berdasarkan season dan weather(cuaca)\n",
        "hour_df.groupby(by=[\"season\",\"weathersit\"]).agg({\n",
        "    \"dteday\": \"nunique\",\n",
        "    \"casual\": \"sum\",\n",
        "    \"registered\": \"sum\",\n",
        "    \"cnt\": [\"min\",\"max\", \"mean\", \"sum\"]\n",
        "})"
      ]
    },
    {
      "cell_type": "markdown",
      "metadata": {
        "id": "zOdOFt2n6EVd"
      },
      "source": [
        "Berdasarkan musim dan kondisi cuaca, pengguna terbanyak ada di musim Fall saat cuaca clear dengan total 801.941 pengguna. Sementara pengguna paling sedikit ada di musim Spring saat cuaca heavy rain dengan total 223 pengguna."
      ]
    },
    {
      "cell_type": "code",
      "execution_count": null,
      "metadata": {
        "colab": {
          "base_uri": "https://localhost:8080/",
          "height": 175
        },
        "id": "5Vj2DcAblFo-",
        "outputId": "919c1263-14b1-46da-8b5e-2068cfeab503"
      },
      "outputs": [],
      "source": [
        "# Jumlah pengguna pada hari kerja dan holiday\n",
        "day_df.groupby(by=\"daystatus\").agg({\n",
        "    \"dteday\": \"count\",\n",
        "    \"casual\": \"sum\",\n",
        "    \"registered\": \"sum\",\n",
        "    \"cnt\": [\"min\",\"max\", \"mean\", \"sum\"]\n",
        "})"
      ]
    },
    {
      "cell_type": "markdown",
      "metadata": {
        "id": "th_Lzl2Fkj9O"
      },
      "source": [
        "Berdasarkan pada status hari:\n",
        "- Pengguna Casual lebih banyak saat Holiday daripada saat hari kerja(Workingday), sedangkan pengguna registered lebih banyak saat hari kerja (Workingday) daripada saat Holiday\n",
        "- Akumulasi total pengguna lebih banyak saat hari kerja(Workingday)"
      ]
    },
    {
      "cell_type": "markdown",
      "metadata": {
        "id": "zsyZjqak8DC2"
      },
      "source": [
        "## Visualization & Explanatory Analysis\n",
        "\n",
        "\n",
        "\n"
      ]
    },
    {
      "cell_type": "markdown",
      "metadata": {
        "id": "HZxOiQ6n8DC2"
      },
      "source": [
        "### Pertanyaan 1: Seberapa signifikan perbedaan jumlah penyewaan sepeda pada tiap musim untuk pengguna kasual dibandingkan pengguna terdaftar?"
      ]
    },
    {
      "cell_type": "code",
      "execution_count": null,
      "metadata": {
        "colab": {
          "base_uri": "https://localhost:8080/",
          "height": 175
        },
        "id": "1swJUdAD8DC2",
        "outputId": "bd9498cb-84ef-4bf9-b8ae-b7651c2a737e"
      },
      "outputs": [],
      "source": [
        "sum_casual_user = hour_df.groupby(\"season\").casual.sum().sort_values(ascending=False).reset_index()\n",
        "sum_registered_user = hour_df.groupby(\"season\").registered.sum().sort_values(ascending=False).reset_index()\n",
        "\n",
        "daily_user = pd.merge(\n",
        "    left=sum_casual_user,\n",
        "    right=sum_registered_user,\n",
        "    how=\"left\",\n",
        "    left_on=\"season\",\n",
        "    right_on=\"season\"\n",
        ")\n",
        "\n",
        "daily_user"
      ]
    },
    {
      "cell_type": "code",
      "execution_count": null,
      "metadata": {
        "colab": {
          "base_uri": "https://localhost:8080/",
          "height": 476
        },
        "id": "wl56xLTQAMgW",
        "outputId": "2d2e01c9-24f6-4d62-b0d2-3d3e09309fca"
      },
      "outputs": [],
      "source": [
        "daily_user_type = daily_user.melt(id_vars='season', var_name='tipePengguna', value_name='jumlahPengguna')\n",
        "\n",
        "plt.figure(figsize=(15, 6))\n",
        "\n",
        "\n",
        "sns.barplot(x=\"season\", y=\"jumlahPengguna\", hue=\"tipePengguna\", data=daily_user_type, palette=\"muted\")\n",
        "plt.ylabel(\"Total Pengguna\")\n",
        "plt.xlabel(\"Musim\")\n",
        "plt.title(\"Perbandingan Pengguna Casual and Registered Berdasarkan Musim\")\n",
        "casual_patch = mpatches.Patch(color=sns.color_palette(\"muted\")[0], label='Casual')\n",
        "registered_patch = mpatches.Patch(color=sns.color_palette(\"muted\")[1], label='Registered')\n",
        "plt.legend(handles=[casual_patch, registered_patch], title=\"User Type\")\n",
        "plt.show()"
      ]
    },
    {
      "cell_type": "code",
      "execution_count": null,
      "metadata": {
        "colab": {
          "base_uri": "https://localhost:8080/",
          "height": 625
        },
        "id": "ZnOlfMYLT7Be",
        "outputId": "64ebac79-ee8b-4f53-9856-53d65d14b881"
      },
      "outputs": [],
      "source": [
        "fig, ax = plt.subplots(nrows=1, ncols=2, figsize=(24, 6))\n",
        "\n",
        "colors = [\"#72BCD4\", \"#D3D3D3\", \"#D3D3D3\", \"#D3D3D3\", \"#D3D3D3\", \"#D3D3D3\", \"#D3D3D3\"]\n",
        "\n",
        "sns.barplot(x=\"casual\", y=\"season\", data=sum_casual_user, palette=colors, hue=\"season\", legend=False, ax=ax[0])\n",
        "ax[0].set_ylabel(\"Musim\", fontsize=15)\n",
        "ax[0].set_xlabel(\"Total Pengguna\", fontsize=12)\n",
        "ax[0].set_title(\"Casual\", loc=\"center\", fontsize=15)\n",
        "ax[0].tick_params(axis ='y', labelsize=12)\n",
        "\n",
        "sns.barplot(x=\"registered\", y=\"season\", data=sum_registered_user, hue=\"season\", legend=False, palette=colors, ax=ax[1])\n",
        "ax[1].set_ylabel(\"Musim\", fontsize=15)\n",
        "ax[1].set_xlabel(\"Total Pengguna\", fontsize=12)\n",
        "ax[1].invert_xaxis()\n",
        "ax[1].yaxis.set_label_position(\"right\")\n",
        "ax[1].yaxis.tick_right()\n",
        "ax[1].set_title(\"Registered\", loc=\"center\", fontsize=15)\n",
        "ax[1].tick_params(axis='y', labelsize=12)\n",
        "\n",
        "plt.suptitle(\"Jumlah Pengguna Casual dan Registered berdasarkan Musim\", fontsize=20)\n",
        "plt.show()"
      ]
    },
    {
      "cell_type": "markdown",
      "metadata": {
        "id": "8HqwF-3MDYJb"
      },
      "source": [
        "Terlihat bahwa pengguna Registered selalu mendominasi di semua musim, dengan puncaknya terjadi pada musim Fall, sementara pengguna Casual mengalami variasi yang lebih signifikan, dengan jumlah tertinggi pada musim Fall dan terendah pada musim Winter, menunjukkan bahwa musim dapat mempengaruhi preferensi dan jumlah pengguna sepeda berbasis tipe pengguna."
      ]
    },
    {
      "cell_type": "markdown",
      "metadata": {
        "id": "DgHI7CiU8DC2"
      },
      "source": [
        "### Pertanyaan 2: Bagaimana produktivitas Bike Sharing berdasarkan waktu pada musim salju?"
      ]
    },
    {
      "cell_type": "code",
      "execution_count": null,
      "metadata": {
        "colab": {
          "base_uri": "https://localhost:8080/",
          "height": 354
        },
        "id": "Go0lCsvO8DC2",
        "outputId": "6e52565d-859a-4c13-8085-cb4d8805b43b"
      },
      "outputs": [],
      "source": [
        "# Filter data untuk hanya musim Winter\n",
        "winter_df = hour_df[hour_df['season'] == 'Winter']\n",
        "\n",
        "fig, ax = plt.subplots(figsize=(20,5))\n",
        "sns.pointplot(data=winter_df, x='hr', y='cnt', hue='daystatus', errorbar=None, ax=ax)\n",
        "ax.set(title='Produktivitas Bike Sharing Berdasarkan Waktu pada Musim Salju')\n",
        "ax.set_ylabel('Total Pengguna')\n",
        "ax.set_xlabel('Hour')\n",
        "plt.show()"
      ]
    },
    {
      "cell_type": "markdown",
      "metadata": {
        "id": "ZILN2OQf-7mx"
      },
      "source": [
        "Produktivitas layanan berbagi sepeda berdasarkan jam dalam workingday dan holiday selama musim dingin. Seperti yang dapat kita lihat, ada lonjakan penggunaan di pagi hari jam kerja, dengan puncak penggunaan antara jam 7 dan 8 pagi. Kemudian, ada penurunan tajam sampai sekitar jam 10 pagi, setelah itu mulai naik lagi sampai mencapai puncak kedua sekitar jam 17."
      ]
    },
    {
      "cell_type": "markdown",
      "metadata": {
        "id": "qg1ZL3ORfYKT"
      },
      "source": [
        "### Pertanyaan 3: Bagaimana kondisi cuaca berperan dalam memengaruhi jumlah penyewaan sepeda?"
      ]
    },
    {
      "cell_type": "code",
      "execution_count": 54,
      "metadata": {
        "id": "n0P7hLRGfwuw"
      },
      "outputs": [],
      "source": [
        "byweather = hour_df.groupby(\"weathersit\").cnt.sum().sort_values(ascending=False).reset_index()"
      ]
    },
    {
      "cell_type": "code",
      "execution_count": null,
      "metadata": {
        "colab": {
          "base_uri": "https://localhost:8080/",
          "height": 714
        },
        "id": "wn8kmyKOe41U",
        "outputId": "b312c508-2609-4cd7-f3a6-84a0810087b8"
      },
      "outputs": [],
      "source": [
        "colors = [\"#72BCD4\", \"#D3D3D3\", \"#D3D3D3\", \"#D3D3D3\"]\n",
        "plt.figure(figsize=(12, 6))\n",
        "sns.barplot(y=\"cnt\", x=\"weathersit\", data=byweather.sort_values(by=\"cnt\", ascending=False),\n",
        "            palette=colors)\n",
        "plt.title(\"Jumlah Pengguna Berdasarkan Kondisi Cuaca\", loc=\"center\", fontsize=15)\n",
        "plt.ylabel(\"Total Pengguna\")\n",
        "plt.xlabel(\"Kondisi Cuaca\")\n",
        "plt.ticklabel_format(style='plain', axis='y')\n",
        "plt.show()"
      ]
    },
    {
      "cell_type": "markdown",
      "metadata": {
        "id": "_0-36BDLklRg"
      },
      "source": [
        "Jumlah pengguna paling banyak ketika kondisi cuaca cerah. Sebaliknya, jumlah pengguna paling sedikit ketika kondisi cuaca hujan lebat. Hal ini bisa menjadi indikasi bahwa orang lebih cenderung menggunakan aplikasi ketika cuaca cerah dan cenderung tidak menggunakan aplikasi ketika cuaca hujan lebat."
      ]
    },
    {
      "cell_type": "markdown",
      "metadata": {
        "id": "9y4VUsmcYNZ5"
      },
      "source": [
        "## Analisis Lanjutan (Opsional)"
      ]
    },
    {
      "cell_type": "markdown",
      "metadata": {
        "id": "A3AvHpn2jZoR"
      },
      "source": [
        "### RFM Analysis"
      ]
    },
    {
      "cell_type": "code",
      "execution_count": null,
      "metadata": {
        "colab": {
          "base_uri": "https://localhost:8080/",
          "height": 269
        },
        "id": "iWhnzsJGYUCO",
        "outputId": "aa71e712-4955-4297-f82c-c53cf72dcf37"
      },
      "outputs": [],
      "source": [
        "rfm_df = hour_df.groupby(by=\"weekday\", as_index=False).agg({\n",
        "    \"dteday\": \"max\",\n",
        "    \"instant\": \"nunique\",\n",
        "    \"cnt\": \"sum\"\n",
        "})\n",
        "\n",
        "rfm_df.columns = [\"weekday\", \"max_order_timestamp\", \"frequency\", \"monetary\"]\n",
        "\n",
        "rfm_df[\"max_order_timestamp\"] = rfm_df[\"max_order_timestamp\"].dt.date\n",
        "recent_date = hour_df[\"dteday\"].dt.date.max()\n",
        "rfm_df[\"recency\"] = rfm_df[\"max_order_timestamp\"].apply(lambda x: (recent_date - x).days)\n",
        "\n",
        "rfm_df.drop(\"max_order_timestamp\", axis=1, inplace=True)\n",
        "rfm_df"
      ]
    },
    {
      "cell_type": "code",
      "execution_count": null,
      "metadata": {
        "colab": {
          "base_uri": "https://localhost:8080/",
          "height": 763
        },
        "id": "jTDziCxAj3jk",
        "outputId": "c77bb375-a985-4fbd-eccb-e2c7eb2968ca"
      },
      "outputs": [],
      "source": [
        "fig, ax = plt.subplots(nrows=1, ncols=3, figsize=(30, 6))\n",
        "\n",
        "colors = [\"#72BCD4\", \"#72BCD4\", \"#72BCD4\", \"#72BCD4\", \"#72BCD4\"]\n",
        "\n",
        "sns.barplot(y=\"recency\", x=\"weekday\", data=rfm_df.sort_values(by=\"recency\", ascending=True).head(5), palette=colors, hue=\"weekday\", legend=False, ax=ax[0])\n",
        "ax[0].set_ylabel(None)\n",
        "ax[0].set_xlabel(None)\n",
        "ax[0].set_title(\"By Recency (days)\", loc=\"center\", fontsize=18)\n",
        "ax[0].tick_params(axis ='x', labelsize=15)\n",
        "\n",
        "sns.barplot(y=\"frequency\", x=\"weekday\", data=rfm_df.sort_values(by=\"frequency\", ascending=False).head(5), palette=colors, hue=\"weekday\", legend=False, ax=ax[1])\n",
        "ax[1].set_ylabel(None)\n",
        "ax[1].set_xlabel(None)\n",
        "ax[1].set_title(\"By Frequency\", loc=\"center\", fontsize=18)\n",
        "ax[1].tick_params(axis='x', labelsize=15)\n",
        "\n",
        "sns.barplot(y=\"monetary\", x=\"weekday\", data=rfm_df.sort_values(by=\"monetary\", ascending=False).head(5), palette=colors, hue=\"weekday\", legend=False, ax=ax[2])\n",
        "ax[2].set_ylabel(None)\n",
        "ax[2].set_xlabel(None)\n",
        "ax[2].set_title(\"By Monetary\", loc=\"center\", fontsize=18)\n",
        "ax[2].tick_params(axis='x', labelsize=15)\n",
        "\n",
        "plt.suptitle(\"Best Customer Based on RFM Parameters (day)\", fontsize=20)\n",
        "plt.show()"
      ]
    },
    {
      "cell_type": "markdown",
      "metadata": {
        "id": "zdB__xTqury3"
      },
      "source": [
        "### Clustering: Mengelompokkan jumlah pelanggan menjadi Low/Middle/High"
      ]
    },
    {
      "cell_type": "code",
      "execution_count": null,
      "metadata": {
        "colab": {
          "base_uri": "https://localhost:8080/",
          "height": 335
        },
        "id": "u16kvqRf0XWK",
        "outputId": "cd71ca11-e9a2-4c1a-9e92-6ae14271f83a"
      },
      "outputs": [],
      "source": [
        "hour_df['cnt'].describe()"
      ]
    },
    {
      "cell_type": "code",
      "execution_count": 62,
      "metadata": {
        "id": "mTNP2WrHkrSZ"
      },
      "outputs": [],
      "source": [
        "# Menghitung Q1, Q3, dan IQR\n",
        "Q1 = hour_df['cnt'].quantile(0.25)\n",
        "Q3 = hour_df['cnt'].quantile(0.75)\n",
        "IQR = Q3 - Q1\n",
        "\n",
        "# Menentukan bins berdasarkan min, Q1, Q3, dan max\n",
        "min_cnt = hour_df['cnt'].min()\n",
        "max_cnt = hour_df['cnt'].max()\n",
        "\n",
        "# Menambahkan kolom status_pelanggan menggunakan bins dan labels\n",
        "hour_df['level_pengguna'] = pd.cut(hour_df['cnt'],\n",
        "                                bins=[min_cnt, Q1, Q3, max_cnt],\n",
        "                                labels=['Low', 'Middle', 'High'],\n",
        "                                include_lowest=True)"
      ]
    },
    {
      "cell_type": "code",
      "execution_count": null,
      "metadata": {
        "colab": {
          "base_uri": "https://localhost:8080/",
          "height": 543
        },
        "id": "bcDVpC7Dw1hJ",
        "outputId": "49f821e4-1443-404c-9377-af1eba38bacc"
      },
      "outputs": [],
      "source": [
        "hour_df.groupby('level_pengguna').head(3)"
      ]
    },
    {
      "cell_type": "code",
      "execution_count": null,
      "metadata": {
        "colab": {
          "base_uri": "https://localhost:8080/",
          "height": 198
        },
        "id": "Qqv3lIKF24c6",
        "outputId": "0c73cca3-01f1-49c4-8822-dffd2a7b7fc6"
      },
      "outputs": [],
      "source": [
        "total_level_pengguna = hour_df.groupby(\"level_pengguna\")['level_pengguna'].count().sort_values(ascending=False).reset_index(name='count')\n",
        "total_level_pengguna"
      ]
    },
    {
      "cell_type": "code",
      "execution_count": null,
      "metadata": {
        "colab": {
          "base_uri": "https://localhost:8080/",
          "height": 753
        },
        "id": "zuMfNHK33voQ",
        "outputId": "777e656f-a52f-4fc4-bc5d-d9f0098b08b1"
      },
      "outputs": [],
      "source": [
        "plt.figure(figsize=(10, 6))\n",
        "colors = [\"#D3D3D3\",\"#72BCD4\", \"#D3D3D3\"]\n",
        "sns.barplot(x='level_pengguna', y='count', data=total_level_pengguna, palette=colors)\n",
        "plt.ylabel('Total Level')\n",
        "plt.xlabel('Level Pengguna')\n",
        "plt.show()"
      ]
    },
    {
      "cell_type": "markdown",
      "metadata": {
        "id": "_WeHlCeX8DC2"
      },
      "source": [
        "## Conclusion"
      ]
    },
    {
      "cell_type": "markdown",
      "metadata": {
        "id": "ZTcyR48Y8DC2"
      },
      "source": [
        "- pertanyaan 1: Pengguna Registered selalu mendominasi di semua musim, saran kepada owner untuk lebih menekankan promosi untuk pengguna casual.\n",
        "- pertanyaan 2: Produktivitas bike sharing lebih tinggi pada hari kerja dibanding libur.\n",
        "Puncak penggunaan bike sharing pada hari kerja terjadi sekitar pukul 17.00.\n",
        "Pada Holiday, puncak penggunaan bike sharing terjadi sekitar pukul 12.00.\n",
        "- Pertanyaan 3: Kondisi cuaca \"clear\" memiliki jumlah penyewaan sepeda yang jauh lebih tinggi dibandingkan dengan kondisi cuaca lainnya. Hal ini menunjukkan bahwa kondisi cuaca yang cerah sangat mendukung kegiatan bersepeda."
      ]
    },
    {
      "cell_type": "code",
      "execution_count": 87,
      "metadata": {
        "id": "qdQrIfBfAJZW"
      },
      "outputs": [],
      "source": [
        "hour_df.to_csv('data_clean.csv', index=False)"
      ]
    }
  ],
  "metadata": {
    "colab": {
      "provenance": []
    },
    "kernelspec": {
      "display_name": "Python 3",
      "language": "python",
      "name": "python3"
    },
    "language_info": {
      "codemirror_mode": {
        "name": "ipython",
        "version": 3
      },
      "file_extension": ".py",
      "mimetype": "text/x-python",
      "name": "python",
      "nbconvert_exporter": "python",
      "pygments_lexer": "ipython3",
      "version": "3.10.11"
    },
    "orig_nbformat": 4,
    "vscode": {
      "interpreter": {
        "hash": "972b3bf27e332e87b5379f2791f6ef9dfc79c71018c370b0d7423235e20fe4d7"
      }
    }
  },
  "nbformat": 4,
  "nbformat_minor": 0
}
